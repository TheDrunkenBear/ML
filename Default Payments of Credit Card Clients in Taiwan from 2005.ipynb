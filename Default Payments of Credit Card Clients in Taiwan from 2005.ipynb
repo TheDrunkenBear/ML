{
 "cells": [
  {
   "cell_type": "code",
   "execution_count": 1,
   "id": "db90b5bf",
   "metadata": {},
   "outputs": [],
   "source": [
    "import pandas as pd\n",
    "import numpy as np\n",
    "import warnings\n",
    "warnings.filterwarnings('ignore')"
   ]
  },
  {
   "cell_type": "markdown",
   "id": "5e7519d4",
   "metadata": {},
   "source": [
    "# Описание данных\n",
    "Этот набор данных содержит информацию о невыплаченных платежах, демографических факторах, кредитных данных, историй платежей и выписки по счетам клиентов кредитных карт на Тайване с апреля 2005 года по сентябрь 2005 года.\n",
    "\n",
    "## Описание полей\n",
    "\n",
    "* ID - идентификатор клиента;\n",
    "* LIMIT_BAL - сумма предоставленного кредита в новых тайваньских долларах (включая индивидуальный и семейный/дополнительный кредит);\n",
    "* SEX - пол (1 - мужской, 2 - женский);\n",
    "* EDUCATION - образование (1 - аспирантура, 2 - университет, 3 - средняя школа, 4 - другое, 5 - неизвестно, 6 - неизвестно);\n",
    "* MARRIAGE - информация о браке (1 - женат/замужем, 2 - холост/не замужем, 3 - другое);\n",
    "* AGE - возраст (в годах);\n",
    "* PAY_0 - статус погашения в сентябре 2005 г. (-1 - оплата своевременно, 1 - задержка платежа на один месяц, 2 - задержка платежа на два месяца, ..., 8 - задержка платежа на восемь месяцев, 9 - задержка платежа на девять месяцев и более);\n",
    "* PAY_2 - статус погашения в август 2005 г. (-1 - оплата своевременно, 1 - задержка платежа на один месяц, 2 - задержка платежа на два месяца, ..., 8 - задержка платежа на восемь месяцев, 9 - задержка платежа на девять месяцев и более);\n",
    "* PAY_3 - статус погашения в июль 2005 г. (-1 - оплата своевременно, 1 - задержка платежа на один месяц, 2 - задержка платежа на два месяца, ..., 8 - задержка платежа на восемь месяцев, 9 - задержка платежа на девять месяцев и более);\n",
    "* PAY_4 - статус погашения в июнь 2005 г. (-1 - оплата своевременно, 1 - задержка платежа на один месяц, 2 - задержка платежа на два месяца, ..., 8 - задержка платежа на восемь месяцев, 9 - задержка платежа на девять месяцев и более);\n",
    "* PAY_5 - статус погашения в май 2005 г. (-1 - оплата своевременно, 1 - задержка платежа на один месяц, 2 - задержка платежа на два месяца, ..., 8 - задержка платежа на восемь месяцев, 9 - задержка платежа на девять месяцев и более);\n",
    "* PAY_6 - статус погашения в апреле 2005 г. (-1 - оплата своевременно, 1 - задержка платежа на один месяц, 2 - задержка платежа на два месяца, ..., 8 - задержка платежа на восемь месяцев, 9 - задержка платежа на девять месяцев и более);\n",
    "* BILL_AMT1 - сумма выписки по счету в сентябре 2005 г. (в новых тайваньских долларах);\n",
    "* BILL_AMT2 - сумма выписки по счету в августе 2005 г. (в новых тайваньских долларах);\n",
    "* BILL_AMT3 - сумма выписки по счету в июле 2005 г. (в новых тайваньских долларах);\n",
    "* BILL_AMT4 - сумма выписки по счету в июне 2005 г. (в новых тайваньских долларах);\n",
    "* BILL_AMT5 - сумма выписки по счету в мае 2005 г. (в новых тайваньских долларах);\n",
    "* BILL_AMT6 - сумма выписки по счету в апреле 2005 г. (в новых тайваньских долларах);\n",
    "* PAY_AMT1 - сумма предыдущего платежа в сентябре 2005 г. (в новых тайваньских долларах);\n",
    "* PAY_AMT2 - сумма предыдущего платежа в августе 2005 г. (в новых тайваньских долларах);\n",
    "* PAY_AMT3 - сумма предыдущего платежа в июле 2005 г. (в новых тайваньских долларах);\n",
    "* PAY_AMT4 - сумма предыдущего платежа в июне 2005 г. (в новых тайваньских долларах);\n",
    "* PAY_AMT5 - сумма предыдущего платежа в мае 2005 г. (в новых тайваньских долларах);\n",
    "* PAY_AMT6 - сумма предыдущего платежа в апреле 2005 г. (в новых тайваньских долларах);\n",
    "* default.payment.next.month - дефолт (1 - да, 0 - нет)."
   ]
  },
  {
   "cell_type": "code",
   "execution_count": 2,
   "id": "c0a3fd94",
   "metadata": {},
   "outputs": [],
   "source": [
    "# Чтение данных из CSV файла\n",
    "data = pd.read_csv('data/UCI_Credit_Card.csv')"
   ]
  },
  {
   "cell_type": "code",
   "execution_count": 3,
   "id": "f0f94da2",
   "metadata": {},
   "outputs": [
    {
     "data": {
      "text/html": [
       "<div>\n",
       "<style scoped>\n",
       "    .dataframe tbody tr th:only-of-type {\n",
       "        vertical-align: middle;\n",
       "    }\n",
       "\n",
       "    .dataframe tbody tr th {\n",
       "        vertical-align: top;\n",
       "    }\n",
       "\n",
       "    .dataframe thead th {\n",
       "        text-align: right;\n",
       "    }\n",
       "</style>\n",
       "<table border=\"1\" class=\"dataframe\">\n",
       "  <thead>\n",
       "    <tr style=\"text-align: right;\">\n",
       "      <th></th>\n",
       "      <th>ID</th>\n",
       "      <th>LIMIT_BAL</th>\n",
       "      <th>SEX</th>\n",
       "      <th>EDUCATION</th>\n",
       "      <th>MARRIAGE</th>\n",
       "      <th>AGE</th>\n",
       "      <th>PAY_0</th>\n",
       "      <th>PAY_2</th>\n",
       "      <th>PAY_3</th>\n",
       "      <th>PAY_4</th>\n",
       "      <th>...</th>\n",
       "      <th>BILL_AMT4</th>\n",
       "      <th>BILL_AMT5</th>\n",
       "      <th>BILL_AMT6</th>\n",
       "      <th>PAY_AMT1</th>\n",
       "      <th>PAY_AMT2</th>\n",
       "      <th>PAY_AMT3</th>\n",
       "      <th>PAY_AMT4</th>\n",
       "      <th>PAY_AMT5</th>\n",
       "      <th>PAY_AMT6</th>\n",
       "      <th>default.payment.next.month</th>\n",
       "    </tr>\n",
       "  </thead>\n",
       "  <tbody>\n",
       "    <tr>\n",
       "      <th>0</th>\n",
       "      <td>1</td>\n",
       "      <td>20000.0</td>\n",
       "      <td>2</td>\n",
       "      <td>2</td>\n",
       "      <td>1</td>\n",
       "      <td>24</td>\n",
       "      <td>2</td>\n",
       "      <td>2</td>\n",
       "      <td>-1</td>\n",
       "      <td>-1</td>\n",
       "      <td>...</td>\n",
       "      <td>0.0</td>\n",
       "      <td>0.0</td>\n",
       "      <td>0.0</td>\n",
       "      <td>0.0</td>\n",
       "      <td>689.0</td>\n",
       "      <td>0.0</td>\n",
       "      <td>0.0</td>\n",
       "      <td>0.0</td>\n",
       "      <td>0.0</td>\n",
       "      <td>1</td>\n",
       "    </tr>\n",
       "    <tr>\n",
       "      <th>1</th>\n",
       "      <td>2</td>\n",
       "      <td>120000.0</td>\n",
       "      <td>2</td>\n",
       "      <td>2</td>\n",
       "      <td>2</td>\n",
       "      <td>26</td>\n",
       "      <td>-1</td>\n",
       "      <td>2</td>\n",
       "      <td>0</td>\n",
       "      <td>0</td>\n",
       "      <td>...</td>\n",
       "      <td>3272.0</td>\n",
       "      <td>3455.0</td>\n",
       "      <td>3261.0</td>\n",
       "      <td>0.0</td>\n",
       "      <td>1000.0</td>\n",
       "      <td>1000.0</td>\n",
       "      <td>1000.0</td>\n",
       "      <td>0.0</td>\n",
       "      <td>2000.0</td>\n",
       "      <td>1</td>\n",
       "    </tr>\n",
       "    <tr>\n",
       "      <th>2</th>\n",
       "      <td>3</td>\n",
       "      <td>90000.0</td>\n",
       "      <td>2</td>\n",
       "      <td>2</td>\n",
       "      <td>2</td>\n",
       "      <td>34</td>\n",
       "      <td>0</td>\n",
       "      <td>0</td>\n",
       "      <td>0</td>\n",
       "      <td>0</td>\n",
       "      <td>...</td>\n",
       "      <td>14331.0</td>\n",
       "      <td>14948.0</td>\n",
       "      <td>15549.0</td>\n",
       "      <td>1518.0</td>\n",
       "      <td>1500.0</td>\n",
       "      <td>1000.0</td>\n",
       "      <td>1000.0</td>\n",
       "      <td>1000.0</td>\n",
       "      <td>5000.0</td>\n",
       "      <td>0</td>\n",
       "    </tr>\n",
       "    <tr>\n",
       "      <th>3</th>\n",
       "      <td>4</td>\n",
       "      <td>50000.0</td>\n",
       "      <td>2</td>\n",
       "      <td>2</td>\n",
       "      <td>1</td>\n",
       "      <td>37</td>\n",
       "      <td>0</td>\n",
       "      <td>0</td>\n",
       "      <td>0</td>\n",
       "      <td>0</td>\n",
       "      <td>...</td>\n",
       "      <td>28314.0</td>\n",
       "      <td>28959.0</td>\n",
       "      <td>29547.0</td>\n",
       "      <td>2000.0</td>\n",
       "      <td>2019.0</td>\n",
       "      <td>1200.0</td>\n",
       "      <td>1100.0</td>\n",
       "      <td>1069.0</td>\n",
       "      <td>1000.0</td>\n",
       "      <td>0</td>\n",
       "    </tr>\n",
       "    <tr>\n",
       "      <th>4</th>\n",
       "      <td>5</td>\n",
       "      <td>50000.0</td>\n",
       "      <td>1</td>\n",
       "      <td>2</td>\n",
       "      <td>1</td>\n",
       "      <td>57</td>\n",
       "      <td>-1</td>\n",
       "      <td>0</td>\n",
       "      <td>-1</td>\n",
       "      <td>0</td>\n",
       "      <td>...</td>\n",
       "      <td>20940.0</td>\n",
       "      <td>19146.0</td>\n",
       "      <td>19131.0</td>\n",
       "      <td>2000.0</td>\n",
       "      <td>36681.0</td>\n",
       "      <td>10000.0</td>\n",
       "      <td>9000.0</td>\n",
       "      <td>689.0</td>\n",
       "      <td>679.0</td>\n",
       "      <td>0</td>\n",
       "    </tr>\n",
       "  </tbody>\n",
       "</table>\n",
       "<p>5 rows × 25 columns</p>\n",
       "</div>"
      ],
      "text/plain": [
       "   ID  LIMIT_BAL  SEX  EDUCATION  MARRIAGE  AGE  PAY_0  PAY_2  PAY_3  PAY_4  \\\n",
       "0   1    20000.0    2          2         1   24      2      2     -1     -1   \n",
       "1   2   120000.0    2          2         2   26     -1      2      0      0   \n",
       "2   3    90000.0    2          2         2   34      0      0      0      0   \n",
       "3   4    50000.0    2          2         1   37      0      0      0      0   \n",
       "4   5    50000.0    1          2         1   57     -1      0     -1      0   \n",
       "\n",
       "   ...  BILL_AMT4  BILL_AMT5  BILL_AMT6  PAY_AMT1  PAY_AMT2  PAY_AMT3  \\\n",
       "0  ...        0.0        0.0        0.0       0.0     689.0       0.0   \n",
       "1  ...     3272.0     3455.0     3261.0       0.0    1000.0    1000.0   \n",
       "2  ...    14331.0    14948.0    15549.0    1518.0    1500.0    1000.0   \n",
       "3  ...    28314.0    28959.0    29547.0    2000.0    2019.0    1200.0   \n",
       "4  ...    20940.0    19146.0    19131.0    2000.0   36681.0   10000.0   \n",
       "\n",
       "   PAY_AMT4  PAY_AMT5  PAY_AMT6  default.payment.next.month  \n",
       "0       0.0       0.0       0.0                           1  \n",
       "1    1000.0       0.0    2000.0                           1  \n",
       "2    1000.0    1000.0    5000.0                           0  \n",
       "3    1100.0    1069.0    1000.0                           0  \n",
       "4    9000.0     689.0     679.0                           0  \n",
       "\n",
       "[5 rows x 25 columns]"
      ]
     },
     "metadata": {},
     "output_type": "display_data"
    }
   ],
   "source": [
    "display(data.head())"
   ]
  },
  {
   "cell_type": "code",
   "execution_count": 4,
   "id": "fb9eb824",
   "metadata": {},
   "outputs": [],
   "source": [
    "# Для удобства переименуем столбец 'default.payment.next.month' в 'default'\n",
    "data.rename(columns={'default.payment.next.month': 'default'}, inplace=True)\n",
    "\n",
    "# А также все столбцы в нижний регистр\n",
    "data.columns = [col.lower() for col in data.columns]"
   ]
  },
  {
   "cell_type": "code",
   "execution_count": 5,
   "id": "6aba93f9",
   "metadata": {},
   "outputs": [
    {
     "data": {
      "text/plain": [
       "default\n",
       "0    23364\n",
       "1     6636\n",
       "Name: count, dtype: int64"
      ]
     },
     "execution_count": 5,
     "metadata": {},
     "output_type": "execute_result"
    }
   ],
   "source": [
    "# Посмотрим на распределение целевой переменной\n",
    "data[\"default\"].value_counts(dropna=False)"
   ]
  },
  {
   "cell_type": "code",
   "execution_count": 6,
   "id": "371a50e8",
   "metadata": {},
   "outputs": [
    {
     "data": {
      "text/plain": [
       "sex\n",
       "2    18112\n",
       "1    11888\n",
       "Name: count, dtype: int64"
      ]
     },
     "metadata": {},
     "output_type": "display_data"
    }
   ],
   "source": [
    "# Посмотрим на основные статистики по демографическим данным (пол)\n",
    "display(data[\"sex\"].value_counts(dropna=False))"
   ]
  },
  {
   "cell_type": "code",
   "execution_count": 7,
   "id": "eee1d620",
   "metadata": {},
   "outputs": [
    {
     "data": {
      "text/plain": [
       "education\n",
       "2    14030\n",
       "1    10585\n",
       "3     4917\n",
       "5      280\n",
       "4      123\n",
       "6       51\n",
       "0       14\n",
       "Name: count, dtype: int64"
      ]
     },
     "metadata": {},
     "output_type": "display_data"
    }
   ],
   "source": [
    "# Посмотрим на основные статистики по демографическим данным (образование)\n",
    "display(data[\"education\"].value_counts(dropna=False))"
   ]
  },
  {
   "cell_type": "code",
   "execution_count": 8,
   "id": "de9695d9",
   "metadata": {},
   "outputs": [
    {
     "data": {
      "text/plain": [
       "education\n",
       "2    14030\n",
       "1    10585\n",
       "3     4917\n",
       "5      345\n",
       "4      123\n",
       "Name: count, dtype: int64"
      ]
     },
     "metadata": {},
     "output_type": "display_data"
    }
   ],
   "source": [
    "# В выборке содержатся неявные пропуски в образовании (0 - неизвестно, 5 - другое, 6 - неизвестно)\n",
    "# Объединим их в одну категорию 5\n",
    "data[\"education\"].replace({0: 5, 6: 5}, inplace=True)\n",
    "display(data[\"education\"].value_counts(dropna=False))"
   ]
  },
  {
   "cell_type": "code",
   "execution_count": 9,
   "id": "42549b6c",
   "metadata": {},
   "outputs": [
    {
     "data": {
      "text/plain": [
       "marriage\n",
       "2    15964\n",
       "1    13659\n",
       "3      323\n",
       "0       54\n",
       "Name: count, dtype: int64"
      ]
     },
     "metadata": {},
     "output_type": "display_data"
    }
   ],
   "source": [
    "# Посмотрим на основные статистики по демографическим данным (информация о браке)\n",
    "display(data[\"marriage\"].value_counts(dropna=False))"
   ]
  },
  {
   "cell_type": "code",
   "execution_count": 10,
   "id": "e00d6f2c",
   "metadata": {},
   "outputs": [
    {
     "data": {
      "text/plain": [
       "marriage\n",
       "2    15964\n",
       "1    13659\n",
       "3      377\n",
       "Name: count, dtype: int64"
      ]
     },
     "metadata": {},
     "output_type": "display_data"
    }
   ],
   "source": [
    "# В выборке также содержится неявные пропуски в семейном положении (0 - неизвестно)\n",
    "# Объединим их в одну категорию 3\n",
    "data[\"marriage\"].replace({0: 3}, inplace=True)\n",
    "display(data[\"marriage\"].value_counts(dropna=False))"
   ]
  },
  {
   "cell_type": "code",
   "execution_count": 11,
   "id": "a11fe1e1",
   "metadata": {},
   "outputs": [
    {
     "data": {
      "text/plain": [
       "count    30000.000000\n",
       "mean        35.485500\n",
       "std          9.217904\n",
       "min         21.000000\n",
       "1%          22.000000\n",
       "5%          23.000000\n",
       "10%         25.000000\n",
       "25%         28.000000\n",
       "50%         34.000000\n",
       "75%         41.000000\n",
       "90%         49.000000\n",
       "95%         53.000000\n",
       "99%         60.000000\n",
       "max         79.000000\n",
       "Name: age, dtype: float64"
      ]
     },
     "metadata": {},
     "output_type": "display_data"
    }
   ],
   "source": [
    "# Посмотрим на основные статистики по демографическим данным (возраст)\n",
    "display(data[\"age\"].describe(percentiles=[0.01, 0.05, 0.1, 0.25, 0.5, 0.75, 0.9, 0.95, 0.99]))"
   ]
  },
  {
   "cell_type": "markdown",
   "id": "cebf137e",
   "metadata": {},
   "source": [
    "### Payment analysis"
   ]
  },
  {
   "cell_type": "code",
   "execution_count": 12,
   "id": "51cce60f",
   "metadata": {},
   "outputs": [],
   "source": [
    "# Переименуем столбцы для удобства\n",
    "data.rename(columns={\n",
    "    'pay_0': 'repayment_status_sep_2005',\n",
    "    'pay_2': 'repayment_status_aug_2005',\n",
    "    'pay_3': 'repayment_status_jul_2005',\n",
    "    'pay_4': 'repayment_status_jun_2005',\n",
    "    'pay_5': 'repayment_status_may_2005',\n",
    "    'pay_6': 'repayment_status_apr_2005',\n",
    "    'bill_amt1': 'bill_amt_sep_2005',\n",
    "    'bill_amt2': 'bill_amt_aug_2005',\n",
    "    'bill_amt3': 'bill_amt_jul_2005',\n",
    "    'bill_amt4': 'bill_amt_jun_2005',\n",
    "    'bill_amt5': 'bill_amt_may_2005',\n",
    "    'bill_amt6': 'bill_amt_apr_2005',\n",
    "    'pay_amt1': 'payment_amt_sep_for_aug_2005',\n",
    "    'pay_amt2': 'payment_amt_aug_for_jul_2005',\n",
    "    'pay_amt3': 'payment_amt_jul_for_jun_2005',\n",
    "    'pay_amt4': 'payment_amt_jun_for_may_2005',\n",
    "    'pay_amt5': 'payment_amt_may_for_apr_2005',\n",
    "    'pay_amt6': 'payment_amt_apr_for_mar_2005'\n",
    "}, inplace=True)"
   ]
  },
  {
   "cell_type": "markdown",
   "id": "0cbe9162",
   "metadata": {},
   "source": [
    "Можем предположить, что статус платежа `-2` обозначает отсутствие, а статус `0` внесение мин.платежа.\n",
    "\n",
    "Попробуем разобраться с этими статусами."
   ]
  },
  {
   "cell_type": "code",
   "execution_count": 35,
   "id": "50135a49",
   "metadata": {},
   "outputs": [
    {
     "data": {
      "text/plain": [
       "repayment_status_sep_2005            1.0\n",
       "repayment_status_aug_2005           -2.0\n",
       "repayment_status_jul_2005           -1.0\n",
       "repayment_status_jun_2005            0.0\n",
       "repayment_status_may_2005           -1.0\n",
       "repayment_status_apr_2005           -1.0\n",
       "limit_bal                       300000.0\n",
       "bill_amt_sep_2005                    0.0\n",
       "bill_amt_aug_2005                    0.0\n",
       "bill_amt_jul_2005                13001.0\n",
       "bill_amt_jun_2005                12601.0\n",
       "bill_amt_may_2005                19595.0\n",
       "bill_amt_apr_2005                  203.0\n",
       "payment_amt_sep_for_aug_2005         0.0\n",
       "payment_amt_aug_for_jul_2005     13001.0\n",
       "payment_amt_jul_for_jun_2005         0.0\n",
       "payment_amt_jun_for_may_2005     19595.0\n",
       "payment_amt_may_for_apr_2005       203.0\n",
       "payment_amt_apr_for_mar_2005         0.0\n",
       "Name: 256, dtype: float64"
      ]
     },
     "execution_count": 35,
     "metadata": {},
     "output_type": "execute_result"
    }
   ],
   "source": [
    "# Взглянем глазами на неопределённые статусы платежей\n",
    "data.loc[\n",
    "    (data[\"repayment_status_sep_2005\"] == -2) |\n",
    "    (data[\"repayment_status_aug_2005\"] == -2) |\n",
    "    (data[\"repayment_status_jul_2005\"] == -2) |\n",
    "    (data[\"repayment_status_jun_2005\"] == -2) |\n",
    "    (data[\"repayment_status_may_2005\"] == -2) |\n",
    "    (data[\"repayment_status_apr_2005\"] == -2) |\n",
    "    (data[\"repayment_status_sep_2005\"] == 0) |\n",
    "    (data[\"repayment_status_aug_2005\"] == 0) |\n",
    "    (data[\"repayment_status_jul_2005\"] == 0) |\n",
    "    (data[\"repayment_status_jun_2005\"] == 0) |\n",
    "    (data[\"repayment_status_may_2005\"] == 0) |\n",
    "    (data[\"repayment_status_apr_2005\"] == 0),\n",
    "    [\n",
    "        \"repayment_status_sep_2005\", \"repayment_status_aug_2005\", \"repayment_status_jul_2005\", \"repayment_status_jun_2005\", \"repayment_status_may_2005\", \"repayment_status_apr_2005\",\n",
    "        \"limit_bal\", \"bill_amt_sep_2005\", \"bill_amt_aug_2005\", \"bill_amt_jul_2005\", \"bill_amt_jun_2005\", \"bill_amt_may_2005\", \"bill_amt_apr_2005\",\n",
    "        \"payment_amt_sep_for_aug_2005\", \"payment_amt_aug_for_jul_2005\", \"payment_amt_jul_for_jun_2005\", \"payment_amt_jun_for_may_2005\", \"payment_amt_may_for_apr_2005\", \"payment_amt_apr_for_mar_2005\"\n",
    "    ]\n",
    "].reset_index(drop=True).iloc[256].T"
   ]
  },
  {
   "cell_type": "markdown",
   "id": "3792d441",
   "metadata": {},
   "source": [
    "Взглянув глазами на данные, можем с большой долей уверенности сказать, что:\n",
    "* статус `-2` обозначает полное погашение задолженности за предыдущий месяц, после которого сумма выписки по счету в следующем месяце будет равной нулю;\n",
    "* статус `0` обозначает отсутствие задолженности."
   ]
  }
 ],
 "metadata": {
  "kernelspec": {
   "display_name": "Python 3",
   "language": "python",
   "name": "python3"
  },
  "language_info": {
   "codemirror_mode": {
    "name": "ipython",
    "version": 3
   },
   "file_extension": ".py",
   "mimetype": "text/x-python",
   "name": "python",
   "nbconvert_exporter": "python",
   "pygments_lexer": "ipython3",
   "version": "3.13.7"
  }
 },
 "nbformat": 4,
 "nbformat_minor": 5
}
